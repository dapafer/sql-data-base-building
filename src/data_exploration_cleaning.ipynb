{
 "cells": [
  {
   "attachments": {},
   "cell_type": "markdown",
   "metadata": {},
   "source": [
    "# **DATA EXPLORATION & CLEANING.**"
   ]
  },
  {
   "attachments": {},
   "cell_type": "markdown",
   "metadata": {},
   "source": [
    "## **Libraries.**"
   ]
  },
  {
   "cell_type": "code",
   "execution_count": 1,
   "metadata": {},
   "outputs": [],
   "source": [
    "import numpy as np\n",
    "import pandas as pd\n",
    "import re"
   ]
  },
  {
   "attachments": {},
   "cell_type": "markdown",
   "metadata": {},
   "source": [
    "## **General view of data.**"
   ]
  },
  {
   "attachments": {},
   "cell_type": "markdown",
   "metadata": {},
   "source": [
    "### **Import datasets.**"
   ]
  },
  {
   "cell_type": "code",
   "execution_count": 12,
   "metadata": {},
   "outputs": [],
   "source": [
    "actors = pd.read_csv('../data/actor.csv')\n",
    "categories = pd.read_csv('../data/category.csv')\n",
    "films = pd.read_csv('../data/film.csv')\n",
    "inventories = pd.read_csv('../data/inventory.csv')\n",
    "languages = pd.read_csv('../data/language.csv')\n",
    "hdd = pd.read_csv('../data/old_HDD.csv')\n",
    "rentals = pd.read_csv('../data/rental.csv')"
   ]
  },
  {
   "attachments": {},
   "cell_type": "markdown",
   "metadata": {},
   "source": [
    "### **Dimensions.**"
   ]
  },
  {
   "cell_type": "code",
   "execution_count": 14,
   "metadata": {},
   "outputs": [
    {
     "name": "stdout",
     "output_type": "stream",
     "text": [
      "Dimensions of actors dataset:  (200, 4)\n",
      "Dimensions of categories dataset:  (16, 3)\n",
      "Dimensions of films dataset:  (1000, 13)\n",
      "Dimensions of inventories dataset:  (1000, 4)\n",
      "Dimensions of languages dataset:  (6, 3)\n",
      "Dimensions of old HDD dataset:  (1000, 5)\n",
      "Dimensions of rentals dataset:  (1000, 7)\n"
     ]
    }
   ],
   "source": [
    "print('Dimensions of actors dataset: ', actors.shape)\n",
    "print('Dimensions of categories dataset: ', categories.shape)\n",
    "print('Dimensions of films dataset: ', films.shape)\n",
    "print('Dimensions of inventories dataset: ', inventories.shape)\n",
    "print('Dimensions of languages dataset: ', languages.shape)\n",
    "print('Dimensions of old HDD dataset: ', hdd.shape)\n",
    "print('Dimensions of rentals dataset: ', rentals.shape)"
   ]
  },
  {
   "attachments": {},
   "cell_type": "markdown",
   "metadata": {},
   "source": [
    "**Let's take a look individually at each dataset.**"
   ]
  },
  {
   "cell_type": "code",
   "execution_count": null,
   "metadata": {},
   "outputs": [],
   "source": []
  },
  {
   "cell_type": "code",
   "execution_count": null,
   "metadata": {},
   "outputs": [],
   "source": []
  }
 ],
 "metadata": {
  "kernelspec": {
   "display_name": "base",
   "language": "python",
   "name": "python3"
  },
  "language_info": {
   "codemirror_mode": {
    "name": "ipython",
    "version": 3
   },
   "file_extension": ".py",
   "mimetype": "text/x-python",
   "name": "python",
   "nbconvert_exporter": "python",
   "pygments_lexer": "ipython3",
   "version": "3.9.13"
  },
  "orig_nbformat": 4
 },
 "nbformat": 4,
 "nbformat_minor": 2
}
